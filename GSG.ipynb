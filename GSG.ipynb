{
 "cells": [
  {
   "cell_type": "code",
   "execution_count": 2,
   "metadata": {},
   "outputs": [
    {
     "name": "stdout",
     "output_type": "stream",
     "text": [
      "welcome to Data Analytics using python\n"
     ]
    }
   ],
   "source": [
    "print('welcome to Data Analytics using python');"
   ]
  },
  {
   "cell_type": "markdown",
   "metadata": {},
   "source": [
    "First project"
   ]
  },
  {
   "cell_type": "markdown",
   "metadata": {},
   "source": [
    "How to decler var in python?\n",
    "by write var name =value\n",
    "\n",
    "wihout write datatype."
   ]
  },
  {
   "cell_type": "code",
   "execution_count": 4,
   "metadata": {},
   "outputs": [
    {
     "name": "stdout",
     "output_type": "stream",
     "text": [
      "5 mays 5.5\n"
     ]
    }
   ],
   "source": [
    "age=5\n",
    "name='mays'\n",
    "hight=5.5\n",
    "print(age,name,hight);"
   ]
  },
  {
   "cell_type": "markdown",
   "metadata": {},
   "source": [
    "Python Type:\n",
    "using function type()"
   ]
  },
  {
   "cell_type": "code",
   "execution_count": 9,
   "metadata": {},
   "outputs": [
    {
     "name": "stdout",
     "output_type": "stream",
     "text": [
      "<class 'str'>\n",
      "<class 'int'>\n",
      "<class 'float'>\n",
      "<class 'bool'>\n"
     ]
    }
   ],
   "source": [
    "name='mays'\n",
    "print(type(name))\n",
    "age=10\n",
    "print(type(age))\n",
    "hight=5.5\n",
    "print(type(hight))\n",
    "isPass=True\n",
    "print(type(isPass))"
   ]
  },
  {
   "cell_type": "markdown",
   "metadata": {},
   "source": [
    "Different type have different behaviour:\n",
    "add\n",
    "concatinations"
   ]
  },
  {
   "cell_type": "code",
   "execution_count": 1,
   "metadata": {},
   "outputs": [
    {
     "name": "stdout",
     "output_type": "stream",
     "text": [
      "5\n",
      "abcd\n"
     ]
    }
   ],
   "source": [
    "x=2+3\n",
    "print(x)\n",
    "m='ab'+'cd'\n",
    "print(m)"
   ]
  },
  {
   "cell_type": "markdown",
   "metadata": {},
   "source": [
    "EXERCISE:\n",
    "\n",
    "Using Python, define variables weight and height with your actual values.\n",
    "Create a variable bmi according to the formula:\n",
    "bmi = weight(KG) / height(M)²\n",
    "Determine your BMI category based on the following:\n",
    "Underweight: less than 18.5\n",
    "Normal weight: between 18.5 and 24.9\n",
    "Overweight: between 25 and 29.9\n",
    "Obesity: BMI of 30 or greater"
   ]
  },
  {
   "cell_type": "code",
   "execution_count": 10,
   "metadata": {},
   "outputs": [
    {
     "name": "stdout",
     "output_type": "stream",
     "text": [
      "greater\n"
     ]
    }
   ],
   "source": [
    "height = 1.75 \n",
    "weight =468 \n",
    "\n",
    "bmi = weight / height ** 2\n",
    "\n",
    "if bmi < 18.5:\n",
    "    print('under')\n",
    "elif 18.5 <= bmi < 24.9:\n",
    "    print('normal')\n",
    "elif 25 <= bmi < 29.9:\n",
    "    print('over')\n",
    "else:\n",
    "    print('greater')\n",
    "\n"
   ]
  },
  {
   "cell_type": "markdown",
   "metadata": {},
   "source": [
    "Python List can contain more than one data type"
   ]
  },
  {
   "cell_type": "code",
   "execution_count": 21,
   "metadata": {},
   "outputs": [
    {
     "name": "stdout",
     "output_type": "stream",
     "text": [
      "[1, 'mays', True, 12.3]\n",
      "12.3\n",
      "12.3\n",
      "True\n",
      "mays\n"
     ]
    },
    {
     "ename": "IndexError",
     "evalue": "list index out of range",
     "output_type": "error",
     "traceback": [
      "\u001b[1;31m---------------------------------------------------------------------------\u001b[0m",
      "\u001b[1;31mIndexError\u001b[0m                                Traceback (most recent call last)",
      "Cell \u001b[1;32mIn[21], line 11\u001b[0m\n\u001b[0;32m      9\u001b[0m \u001b[38;5;28mprint\u001b[39m(list1[\u001b[38;5;241m-\u001b[39m\u001b[38;5;241m3\u001b[39m])\n\u001b[0;32m     10\u001b[0m \u001b[38;5;66;03m# when we want access elament index out of range display error IndexError: list index out of range\u001b[39;00m\n\u001b[1;32m---> 11\u001b[0m \u001b[38;5;28mprint\u001b[39m(\u001b[43mlist1\u001b[49m\u001b[43m[\u001b[49m\u001b[38;5;241;43m4\u001b[39;49m\u001b[43m]\u001b[49m)\n",
      "\u001b[1;31mIndexError\u001b[0m: list index out of range"
     ]
    }
   ],
   "source": [
    "list1=[1,\"mays\",True,12.3]\n",
    "print(list1)\n",
    "# for single access\n",
    "print(list1[3])\n",
    "# for last element in list\n",
    "print(list1[-1])\n",
    "# when we use - then returen element from last for exambel -2 the second element from the last\n",
    "print(list1[-2])\n",
    "print(list1[-3])\n",
    "# when we want access elament index out of range display error IndexError: list index out of range\n",
    "print(list1[4])\n"
   ]
  },
  {
   "cell_type": "markdown",
   "metadata": {},
   "source": [
    "list slicing:\n",
    "sub of list\n",
    "list1[1:2]\n",
    "start include but end exclude\n"
   ]
  },
  {
   "cell_type": "code",
   "execution_count": 25,
   "metadata": {},
   "outputs": [
    {
     "name": "stdout",
     "output_type": "stream",
     "text": [
      "['mays', True]\n",
      "[1, 'mays']\n",
      "[True, 12.3]\n"
     ]
    }
   ],
   "source": [
    "list1=[1,\"mays\",True,12.3]\n",
    "print(list1[1:3])\n",
    "#from 0 to two exclusive\n",
    "print(list1[:2])\n",
    "#from two to last \n",
    "print(list1[2:])\n"
   ]
  },
  {
   "cell_type": "markdown",
   "metadata": {},
   "source": [
    "How to modifay list?"
   ]
  },
  {
   "cell_type": "code",
   "execution_count": 27,
   "metadata": {},
   "outputs": [
    {
     "name": "stdout",
     "output_type": "stream",
     "text": [
      "[1, 'mays', True, 12.3]\n",
      "[1, 'mays', False, 12.3]\n"
     ]
    }
   ],
   "source": [
    "list1=[1,\"mays\",True,12.3]\n",
    "print(list1)\n",
    "list1[2]=False\n",
    "print(list1)"
   ]
  },
  {
   "cell_type": "markdown",
   "metadata": {},
   "source": [
    "Concatinating list"
   ]
  },
  {
   "cell_type": "code",
   "execution_count": 28,
   "metadata": {},
   "outputs": [
    {
     "name": "stdout",
     "output_type": "stream",
     "text": [
      "[1, 'mays', True, 12.3, 45, 'mayar']\n"
     ]
    }
   ],
   "source": [
    "list1=[1,\"mays\",True,12.3]\n",
    "list1=list1+[45,'mayar']\n",
    "print(list1)"
   ]
  },
  {
   "cell_type": "markdown",
   "metadata": {},
   "source": [
    "Delete element by index using del"
   ]
  },
  {
   "cell_type": "code",
   "execution_count": 29,
   "metadata": {},
   "outputs": [
    {
     "name": "stdout",
     "output_type": "stream",
     "text": [
      "[1, 'mays', 12.3]\n"
     ]
    }
   ],
   "source": [
    "list1=[1,\"mays\",True,12.3]\n",
    "del list1[2]\n",
    "print(list1)"
   ]
  },
  {
   "cell_type": "markdown",
   "metadata": {},
   "source": [
    "Functions in python:\n",
    "The max() function returns the largest item in an iterable (like a list or tuple) or the largest of two or more arguments.\n",
    "\n",
    "The min() function returns the smallest item in an iterable or the smallest of two or more arguments.\n",
    "The round() function rounds a floating-point number to the nearest integer or to a specified number of decimal places.\n",
    "The sum() function returns the sum of all items in an iterable (like a list or tuple). You can also specify a starting value for the sum.\n",
    "The len() function returns the length (number of items) of an object. This function works with many data types like strings, lists, tuples, and dictionaries.\n",
    "The sorted() function returns a new sorted list from the items in an iterable. You can specify whether to sort in ascending or descending order with the reverse parameter.\n",
    "The any() function returns True if at least one element in the iterable is True; otherwise, it returns False. It's useful for checking if a condition holds in any element of a list or other iterable.\n",
    "The all() function returns True if all elements in the iterable are True; otherwise, it returns False. This checks whether all elements satisfy a condition."
   ]
  },
  {
   "cell_type": "code",
   "execution_count": 43,
   "metadata": {},
   "outputs": [
    {
     "name": "stdout",
     "output_type": "stream",
     "text": [
      "9\n",
      "1\n",
      "6\n",
      "5.68\n",
      "10\n",
      "4\n",
      "6\n",
      "[1, 1, 3, 4, 5]\n",
      "[5, 4, 3, 1, 1]\n",
      "True\n",
      "True\n"
     ]
    }
   ],
   "source": [
    "numbers = [3, 7, 1, 9]\n",
    "maxnum=max(numbers)\n",
    "print(maxnum)\n",
    "minumum=min(numbers)\n",
    "print(minumum)\n",
    "value = 5.678\n",
    "print(round(value))  # rounds to nearest integer\n",
    "\n",
    "print(round(value, 2))  # rounds to 2 decimal places\n",
    "numbers = [1, 2, 3, 4]\n",
    "result = sum(numbers)\n",
    "print(result)\n",
    "numbers = [1, 2, 3, 4]\n",
    "print(len(numbers))\n",
    "word = \"Python\"\n",
    "print(len(word))\n",
    "numbers = [3, 1, 4, 1, 5]\n",
    "print(sorted(numbers))\n",
    "print(sorted(numbers, reverse=True) ) # Sorts in descending order\n",
    "values = [False, False, True, False]\n",
    "print(any(values))# at laest one value true in list\n",
    "value = [True, True, True]\n",
    "print(all(value))# all value must be true to return true\n",
    "\n",
    "\n",
    "\n",
    "\n",
    "\n",
    "\n",
    "\n",
    "\n",
    "\n",
    "\n"
   ]
  },
  {
   "cell_type": "markdown",
   "metadata": {},
   "source": [
    "Functions vs. Methods:\n",
    "\n",
    "Python functions are defined independently and can be called on their own. However, methods are functions that are associated with an object (like a list, string, dictionary, etc.). They belong to a class or data type and can only be called on instances of that type.\n",
    "methods:\n",
    "The split() function breaks a string into a list of substrings based on a specified separator (default is any whitespace).\n",
    "The join() function does the opposite of split(). It combines a list of strings into a single string with a specified separator.\n",
    "The replace() function replaces a specific substring within a string with another substring.\n",
    "The append() function adds a single item to the end of a list.\n",
    "The index() function returns the index of the first occurrence of a specified substring in the string. If the substring is not found, it raises a ValueError.\n",
    "The count() function is used to count the number of times a specified value appears in a list.\n",
    "The help() function is a built-in function that provides detailed information about Python objects such as functions, classes, modules, methods, and more. It is an incredibly useful tool when you need to understand how something works in Python, including its syntax, parameters, and description.\n",
    "\n",
    "\n",
    "\n"
   ]
  },
  {
   "cell_type": "code",
   "execution_count": 1,
   "metadata": {},
   "outputs": [
    {
     "name": "stdout",
     "output_type": "stream",
     "text": [
      "['Data', 'science', 'using', 'Python']\n",
      "Data science using Python\n",
      "I like bananas. Apples are tasty.\n",
      "[1, 2, 3, 4]\n",
      "7\n",
      "1\n",
      "3\n",
      "Help on built-in function len in module builtins:\n",
      "\n",
      "len(obj, /)\n",
      "    Return the number of items in a container.\n",
      "\n"
     ]
    }
   ],
   "source": [
    "text = \"Data science using Python\"\n",
    "words = text.split()  # Splits the string into a list of words\n",
    "print(words)\n",
    "words = ['Data', 'science', 'using', 'Python']\n",
    "sentence = \" \".join(words)\n",
    "print(sentence)\n",
    "text = \"I like apples. Apples are tasty.\"\n",
    "new_text = text.replace(\"apples\", \"bananas\")\n",
    "print(new_text)\n",
    "numbers = [1, 2, 3]\n",
    "numbers.append(4)\n",
    "print(numbers)\n",
    "text = \"Hello, world!\"\n",
    "index_w = text.index(\"w\")\n",
    "print(index_w)\n",
    "numbers = [10, 20, 30, 20, 40]\n",
    "index_20 = numbers.index(20)\n",
    "print(index_20)\n",
    "numbers = [10, 20, 30, 20, 40, 20]\n",
    "count_20 = numbers.count(20)\n",
    "print(count_20)\n",
    "help(len)\n",
    "\n",
    "\n",
    "\n",
    "\n",
    "\n",
    "\n",
    "\n"
   ]
  },
  {
   "cell_type": "markdown",
   "metadata": {},
   "source": [
    "MODULES AND PACKAGES\n",
    "\n",
    "Python module (.py) file:\n",
    "\n",
    "Organize the code\n",
    "Make it reusable\n",
    "How can use module?\n",
    "by using import file name.\n",
    "Standard library modules:\n",
    "\n",
    "Example of some common built-in modules:\n",
    "\n",
    "math: Contains mathematical functions.\n",
    "os: Provides functions to interact with the operating system.\n",
    "random: Used for generating random numbers.\n"
   ]
  },
  {
   "cell_type": "markdown",
   "metadata": {},
   "source": [
    "Session2\n",
    "NUMPY\n",
    "\n",
    "Python Lists are:\n",
    "\n",
    "Powerful collection of values\n",
    "Can hold different types\n",
    "Can add, remove, and change\n",
    "BUT, Data Science requires:\n",
    "\n",
    "Mathematical operations over collections\n",
    "Speed\n",
    "so they made numpy.\n"
   ]
  }
 ],
 "metadata": {
  "kernelspec": {
   "display_name": "Python 3",
   "language": "python",
   "name": "python3"
  },
  "language_info": {
   "codemirror_mode": {
    "name": "ipython",
    "version": 3
   },
   "file_extension": ".py",
   "mimetype": "text/x-python",
   "name": "python",
   "nbconvert_exporter": "python",
   "pygments_lexer": "ipython3",
   "version": "3.12.7"
  }
 },
 "nbformat": 4,
 "nbformat_minor": 2
}
